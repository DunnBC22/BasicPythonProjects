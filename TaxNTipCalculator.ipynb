{
 "cells": [
  {
   "cell_type": "code",
   "execution_count": 1,
   "id": "dangerous-louis",
   "metadata": {},
   "outputs": [
    {
     "data": {
      "text/plain": [
       "'\\nTake the Input.\\nValidate in the input.\\n    -How much the meal was\\n    -tax amount\\n    -tip percent\\nCalculate the results.\\nDisplay the results\\n'"
      ]
     },
     "execution_count": 1,
     "metadata": {},
     "output_type": "execute_result"
    }
   ],
   "source": [
    "'''\n",
    "Take the Input.\n",
    "Validate in the input.\n",
    "    -How much the meal was\n",
    "    -tax amount\n",
    "    -tip percent\n",
    "Calculate the results.\n",
    "Display the results\n",
    "'''"
   ]
  },
  {
   "cell_type": "code",
   "execution_count": 2,
   "id": "behind-refrigerator",
   "metadata": {},
   "outputs": [
    {
     "name": "stdin",
     "output_type": "stream",
     "text": [
      "How much was the meal?  20\n",
      "What is the local tax rate (percent, not decimal, form)? 5.5\n",
      "What percent do you want to tip (percent, not decimal, form)? 20\n"
     ]
    },
    {
     "name": "stdout",
     "output_type": "stream",
     "text": [
      "\n",
      "\n",
      "Breakdown of the Bill\n",
      "\n",
      "Cost of the Meal    $20.00\n",
      "Tax Amount          $1.10\n",
      "Tip Amount          $4.22\n",
      "Total               $25.32\n"
     ]
    },
    {
     "name": "stdin",
     "output_type": "stream",
     "text": [
      "Would you like to calcuate another tip calculation? (Y/n) n\n"
     ]
    }
   ],
   "source": [
    "def tip_calculator():\n",
    "    #input and validate the variables\n",
    "    meal_cost = input('How much was the meal? ')\n",
    "\n",
    "    try:\n",
    "        isinstance(float(meal_cost), float)\n",
    "    except ValueError:\n",
    "        print('Please enter a numerical value for the meal cost.')\n",
    "    else:\n",
    "        meal_cost = float(meal_cost)\n",
    "\n",
    "    #if the rate is below .5%, just check to make sure that the input is correct\n",
    "    tax_rate = input('What is the local tax rate (percent, not decimal, form)?')\n",
    "\n",
    "    try:\n",
    "        isinstance(float(tax_rate), float)\n",
    "    except ValueError:\n",
    "        print('Please enter a numerical value for the tax rate')\n",
    "    else:\n",
    "        tax_rate = float(tax_rate)\n",
    "\n",
    "    #make sure that the tip is at least 17%\n",
    "    tip_percent = input('What percent do you want to tip (percent, not decimal, form)?')\n",
    "    print('\\n')\n",
    "\n",
    "    try:\n",
    "        isinstance(float(tip_percent), float)\n",
    "    except ValueError:\n",
    "        print('Please enter a numerical value for the tip percent')\n",
    "    else:\n",
    "        tip_percent = float(tip_percent)\n",
    "\n",
    "    if (tip_percent<17):\n",
    "        tip_percent = 17\n",
    "   \n",
    "    #Calculate the total\n",
    "    tax_amount = meal_cost * (tax_rate/100)\n",
    "    tip_amount = (meal_cost + tax_amount) * (tip_percent/100)\n",
    "    total = meal_cost + tax_amount + tip_amount\n",
    "    dollar_formatting = [meal_cost, tax_amount, tip_amount, total]\n",
    "    for i in range(len(dollar_formatting)):\n",
    "        dollar_formatting[i] = \"${:,.2f}\".format(dollar_formatting[i])\n",
    "\n",
    "    row_names = ['Cost of the Meal', 'Tax Amount', 'Tip Amount', 'Total']\n",
    "    for i in range(len(row_names)):\n",
    "        row_names[i] = \"{:20s}\".format(row_names[i])\n",
    "    \n",
    "    #Output\n",
    "    print(\"Breakdown of the Bill\\n\")\n",
    "    for i in range(0,4):\n",
    "        print(row_names[i] + dollar_formatting[i])\n",
    "    \n",
    "    try_again()\n",
    "    return\n",
    "\n",
    "def try_again():\n",
    "    another_attempt = input(\"Would you like to calcuate another tip calculation? (Y/n)\")\n",
    "    if ((another_attempt.upper() == 'Y') or (another_attempt.upper() == 'N')):\n",
    "        #do two if statements for the y and the n\n",
    "        if (another_attempt.upper() == 'Y'):\n",
    "            tip_calculator() \n",
    "        elif (another_attempt.upper() == 'N'):\n",
    "            quit()\n",
    "    else:\n",
    "        print(\"Please try again. The only accepted values are y and n\",'\\n')\n",
    "        try_again()\n",
    "\n",
    "tip_calculator() "
   ]
  }
 ],
 "metadata": {
  "kernelspec": {
   "display_name": "Python 3",
   "language": "python",
   "name": "python3"
  },
  "language_info": {
   "codemirror_mode": {
    "name": "ipython",
    "version": 3
   },
   "file_extension": ".py",
   "mimetype": "text/x-python",
   "name": "python",
   "nbconvert_exporter": "python",
   "pygments_lexer": "ipython3",
   "version": "3.8.5"
  }
 },
 "nbformat": 4,
 "nbformat_minor": 5
}
