{
 "cells": [
  {
   "cell_type": "code",
   "execution_count": 3,
   "id": "temporal-darkness",
   "metadata": {},
   "outputs": [],
   "source": [
    "'''\n",
    "This program asks for a short phrase and displays the acronym after cleaning up the input (as neccessary).\n",
    "Also, it allows for multiple attempts to create an acronym\n",
    "'''\n",
    "import re"
   ]
  },
  {
   "cell_type": "code",
   "execution_count": 9,
   "id": "fiscal-brass",
   "metadata": {},
   "outputs": [
    {
     "name": "stdin",
     "output_type": "stream",
     "text": [
      "Please suggest a phrase to create an acronym:  bob is awesome\n"
     ]
    },
    {
     "name": "stdout",
     "output_type": "stream",
     "text": [
      "bob is awesome is now BIA \n",
      "\n"
     ]
    },
    {
     "name": "stdin",
     "output_type": "stream",
     "text": [
      "Would you like to create another acronym? (Y/n) y\n",
      "Please suggest a phrase to create an acronym:  # Brian is the coolest person alive!\n"
     ]
    },
    {
     "name": "stdout",
     "output_type": "stream",
     "text": [
      "# Brian is the coolest person alive! is now BITCPA \n",
      "\n"
     ]
    },
    {
     "name": "stdin",
     "output_type": "stream",
     "text": [
      "Would you like to create another acronym? (Y/n) a\n"
     ]
    },
    {
     "name": "stdout",
     "output_type": "stream",
     "text": [
      "Please try again. The only accepted values are y and n \n",
      "\n"
     ]
    },
    {
     "name": "stdin",
     "output_type": "stream",
     "text": [
      "Would you like to create another acronym? (Y/n) n\n"
     ]
    }
   ],
   "source": [
    "def another_turn():\n",
    "    another_try = input(\"Would you like to create another acronym? (Y/n)\")\n",
    "    if ((another_try.upper() == 'Y') or (another_try.upper() == 'N')):\n",
    "        #do two if statements for the y and the n\n",
    "        if (another_try.upper() == 'Y'):\n",
    "            create_acronym()\n",
    "        elif (another_try.upper() == 'N'):\n",
    "            quit()\n",
    "    else:\n",
    "        print(\"Please try again. The only accepted values are y and n\",'\\n')\n",
    "        another_turn()\n",
    "\n",
    "def create_acronym():\n",
    "    input_phrase = input(\"Please suggest a phrase to create an acronym: \")\n",
    "    original_phrase = input_phrase\n",
    "    input_phrase = re.sub('([^A-Za-z ])', '', input_phrase)\n",
    "    input_phrase = input_phrase.strip(' ')\n",
    "    input_phrase = re.sub('  ', ' ', input_phrase)\n",
    "    input_phrase = input_phrase.split(' ')\n",
    "    acronym = ''\n",
    "    for i in range(len(input_phrase)):\n",
    "        acronym += input_phrase[i][0]\n",
    "    acronym = acronym.upper()\n",
    "    output_string = ''\n",
    "    output_string += original_phrase + ' is now ' + acronym\n",
    "    print(output_string,'\\n')\n",
    "    another_turn()\n",
    "    return\n",
    "\n",
    "create_acronym()"
   ]
  }
 ],
 "metadata": {
  "kernelspec": {
   "display_name": "Python 3",
   "language": "python",
   "name": "python3"
  },
  "language_info": {
   "codemirror_mode": {
    "name": "ipython",
    "version": 3
   },
   "file_extension": ".py",
   "mimetype": "text/x-python",
   "name": "python",
   "nbconvert_exporter": "python",
   "pygments_lexer": "ipython3",
   "version": "3.8.5"
  }
 },
 "nbformat": 4,
 "nbformat_minor": 5
}
