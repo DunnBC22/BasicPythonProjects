{
 "cells": [
  {
   "cell_type": "code",
   "execution_count": 1,
   "id": "hawaiian-sampling",
   "metadata": {},
   "outputs": [
    {
     "data": {
      "text/plain": [
       "'\\n    Ask the user for a word\\n    Validate the input\\n    Check if it is a palindrome\\n    Display the results\\n'"
      ]
     },
     "execution_count": 1,
     "metadata": {},
     "output_type": "execute_result"
    }
   ],
   "source": [
    "'''\n",
    "    Ask the user for a word\n",
    "    Validate the input\n",
    "    Check if it is a palindrome\n",
    "    Display the results\n",
    "'''"
   ]
  },
  {
   "cell_type": "code",
   "execution_count": 1,
   "id": "minute-bargain",
   "metadata": {},
   "outputs": [
    {
     "name": "stdin",
     "output_type": "stream",
     "text": [
      "Please enter a word to see if it is a palindrome: bobby is funny\n"
     ]
    },
    {
     "name": "stdout",
     "output_type": "stream",
     "text": [
      "Sorry! bobby is funny is not a palindrome.\n"
     ]
    },
    {
     "name": "stdin",
     "output_type": "stream",
     "text": [
      "Would you like to check if another word is a palindrome? (Y/n) n\n"
     ]
    }
   ],
   "source": [
    "#Ask for a word\n",
    "#input_word = input('Please enter a word to see if it is a palindrome:')\n",
    "import re\n",
    "\n",
    "def is_it_a_palindrome():\n",
    "    input_word = input('Please enter a word to see if it is a palindrome:')\n",
    "    #Validate the word (only allow letters)\n",
    "    input_word = re.sub('([^A-Za-z ])', '', input_word)\n",
    "    input_word = input_word.strip(' ')\n",
    "    input_word = re.sub('  ', ' ', input_word)\n",
    "    #make it case insensitive\n",
    "    input_word = input_word.lower()\n",
    "    word_reversed = input_word[::-1]\n",
    "    if (len(input_word) == 0): \n",
    "        print(\"There is no word to assess!\")\n",
    "    elif (input_word == word_reversed):\n",
    "        print(\"Congrats!\", input_word, \"is a palindrome!\")\n",
    "    else:\n",
    "        print(\"Sorry!\", input_word, \"is not a palindrome.\")\n",
    "    try_again()\n",
    "    return\n",
    "\n",
    "def try_again():\n",
    "    another_attempt = input(\"Would you like to check if another word is a palindrome? (Y/n)\")\n",
    "    if ((another_attempt.upper() == 'Y') or (another_attempt.upper() == 'N')):\n",
    "        #do two if statements for the y and the n\n",
    "        if (another_attempt.upper() == 'Y'):\n",
    "            is_it_a_palindrome()\n",
    "        elif (another_attempt.upper() == 'N'):\n",
    "            quit()\n",
    "    else:\n",
    "        print(\"Please try again. The only accepted values are y and n\",'\\n')\n",
    "        try_again()\n",
    "    return\n",
    "\n",
    "is_it_a_palindrome()"
   ]
  }
 ],
 "metadata": {
  "kernelspec": {
   "display_name": "Python 3",
   "language": "python",
   "name": "python3"
  },
  "language_info": {
   "codemirror_mode": {
    "name": "ipython",
    "version": 3
   },
   "file_extension": ".py",
   "mimetype": "text/x-python",
   "name": "python",
   "nbconvert_exporter": "python",
   "pygments_lexer": "ipython3",
   "version": "3.8.5"
  }
 },
 "nbformat": 4,
 "nbformat_minor": 5
}
