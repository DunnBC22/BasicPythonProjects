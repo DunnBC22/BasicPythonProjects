{
 "cells": [
  {
   "cell_type": "code",
   "execution_count": 2,
   "id": "occupational-regression",
   "metadata": {},
   "outputs": [],
   "source": [
    "'''\n",
    "I could have done all of these File Inputs with one input, but what would the fun be with that!?  :)\n",
    "'''\n",
    "\n",
    "'''\n",
    "Other note: I could have built this program to allow users to select their own file to run these \n",
    "statistics on, but that would have required using tkinter or PyQt5, which I have not gotten to yet.\n",
    "'''\n",
    "\n",
    "import re\n",
    "import fileinput"
   ]
  },
  {
   "cell_type": "code",
   "execution_count": 3,
   "id": "guilty-laundry",
   "metadata": {},
   "outputs": [
    {
     "name": "stdout",
     "output_type": "stream",
     "text": [
      "There are 522 words in this file.\n",
      "The number of characters (including spaces) in this file is 3585.\n",
      "The number of characters (not including spaces) in this file is 3064.\n",
      "The average number of letters in a word in this file is 5.87\n",
      "The filename is './ExampleText.txt'.\n"
     ]
    }
   ],
   "source": [
    "# File input\n",
    "file_input = './ExampleText.txt'\n",
    "\n",
    "# word count (length of string split after removing special characters)\n",
    "with open(file_input, 'r') as w:\n",
    "    w = w.read()\n",
    "    w = w.split(' ')\n",
    "    word_count=len(w)\n",
    "    print(\"There are\", word_count, \"words in this file.\")\n",
    "\n",
    "# number of characters (including spaces)\n",
    "with open(file_input, 'r') as chars:\n",
    "    chars = chars.read()\n",
    "    chars=len(chars)\n",
    "    print(\"The number of characters (including spaces) in this file is %s.\" % chars)\n",
    "\n",
    "# number of lines\n",
    "with open(file_input, 'r') as ns:\n",
    "    ns = ns.read()\n",
    "    ns_chars = re.sub(' ', '', ns)\n",
    "    ns_chars = len(ns_chars)\n",
    "    print(\"The number of characters (not including spaces) in this file is %s.\" % ns_chars)\n",
    "\n",
    "# the average number of letters in a word\n",
    "average = (ns_chars/word_count)\n",
    "print(\"The average number of letters in a word in this file is {:.2f}\".format(average))\n",
    "\n",
    "#filename\n",
    "with open(file_input, 'r') as other:\n",
    "    print(\"The filename is '%s'.\" % other.name)\n"
   ]
  }
 ],
 "metadata": {
  "kernelspec": {
   "display_name": "Python 3",
   "language": "python",
   "name": "python3"
  },
  "language_info": {
   "codemirror_mode": {
    "name": "ipython",
    "version": 3
   },
   "file_extension": ".py",
   "mimetype": "text/x-python",
   "name": "python",
   "nbconvert_exporter": "python",
   "pygments_lexer": "ipython3",
   "version": "3.8.5"
  }
 },
 "nbformat": 4,
 "nbformat_minor": 5
}
