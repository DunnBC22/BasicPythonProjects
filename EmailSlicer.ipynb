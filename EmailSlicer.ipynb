{
 "cells": [
  {
   "cell_type": "code",
   "execution_count": 1,
   "id": "jewish-rachel",
   "metadata": {},
   "outputs": [],
   "source": [
    "'''\n",
    "Ask the user for the input\n",
    "Validate the input\n",
    "Do the checking\n",
    "    -Use a string split with the @ first and then . (dot) the second time around\n",
    "Display the results\n",
    "'''"
   ]
  },
  {
   "cell_type": "code",
   "execution_count": 19,
   "id": "according-dairy",
   "metadata": {},
   "outputs": [
    {
     "name": "stdin",
     "output_type": "stream",
     "text": [
      "Excuse me ma'am or sir, can you provide your email address?  DunnBC22@gmail.com\n"
     ]
    },
    {
     "name": "stdout",
     "output_type": "stream",
     "text": [
      "Thank you for providing your email. After further analysis, it is a valid email address!\n"
     ]
    },
    {
     "name": "stdin",
     "output_type": "stream",
     "text": [
      "Would you like to check another email address? (Y/n) y\n",
      "Excuse me ma'am or sir, can you provide your email address?  DunnBC22@gmail.com\n"
     ]
    },
    {
     "name": "stdout",
     "output_type": "stream",
     "text": [
      "Thank you for providing your email. After further analysis, it is a valid email address!\n"
     ]
    },
    {
     "name": "stdin",
     "output_type": "stream",
     "text": [
      "Would you like to check another email address? (Y/n) f\n"
     ]
    },
    {
     "name": "stdout",
     "output_type": "stream",
     "text": [
      "Please try again. The only accepted values are y and n \n",
      "\n"
     ]
    },
    {
     "name": "stdin",
     "output_type": "stream",
     "text": [
      "Would you like to check another email address? (Y/n) n\n"
     ]
    }
   ],
   "source": [
    "import re\n",
    "\n",
    "def EmailSlicer():\n",
    "    #ask the user for their email address\n",
    "    email_address = input(\"Excuse me ma'am or sir, can you provide your email address? \")\n",
    "\n",
    "    #split the user input into the components and assign them to individual variables\n",
    "    username = email_address.split('@')[0]\n",
    "    after_at_sign = email_address.split('@')[1]\n",
    "    domain = after_at_sign.split('.')[0]\n",
    "    tld = after_at_sign.split('.')[1]\n",
    "    is_valid = 1\n",
    "    username_validation = re.search('[A-Za-z0-9]+', username)\n",
    "\n",
    "    #validating the username \n",
    "    if not(username_validation):\n",
    "        is_valid = -1\n",
    "        print(\"The username is not valid\")\n",
    "    \n",
    "    #domain validation with regex\n",
    "    domain_validation = re.search('[A-Za-z]+', domain)\n",
    "    if not(domain_validation):\n",
    "        is_valid = -1\n",
    "        print(\"The domain is not valid\")\n",
    "\n",
    "    #tld validation with an if statement (use in() in the boolean comparison)\n",
    "    valid_tlds=('com', 'org', 'net', 'int', 'edu', 'gov,' 'mil')\n",
    "    if (tld not in valid_tlds):\n",
    "        is_valid = -1\n",
    "        print(\"Not a valid top-level domain\")\n",
    "\n",
    "    if ((len(email_address.split('@')) != 2) or (len(after_at_sign.split('.')) != 2)):\n",
    "        print(\"This is not a real email. Please try again.\\n\")\n",
    "        is_valid = -1\n",
    "    if (is_valid == 1):\n",
    "        print(\"Thank you for providing your email. After further analysis, it is a valid email address!\")\n",
    "    elif (is_valid == -1):\n",
    "        print(\"Thank you for providing your email. Unfortunately, it is not a valid email address!\")\n",
    "    try_again()\n",
    "    return\n",
    "\n",
    "def try_again():\n",
    "    another_attempt = input(\"Would you like to check another email address? (Y/n)\")\n",
    "    if ((another_attempt.upper() == 'Y') or (another_attempt.upper() == 'N')):\n",
    "        #do two if statements for the y and the n\n",
    "        if (another_attempt.upper() == 'Y'):\n",
    "            EmailSlicer()\n",
    "        elif (another_attempt.upper() == 'N'):\n",
    "            quit()\n",
    "    else:\n",
    "        print(\"Please try again. The only accepted values are y and n\",'\\n')\n",
    "        try_again()\n",
    "\n",
    "EmailSlicer()"
   ]
  }
 ],
 "metadata": {
  "kernelspec": {
   "display_name": "Python 3",
   "language": "python",
   "name": "python3"
  },
  "language_info": {
   "codemirror_mode": {
    "name": "ipython",
    "version": 3
   },
   "file_extension": ".py",
   "mimetype": "text/x-python",
   "name": "python",
   "nbconvert_exporter": "python",
   "pygments_lexer": "ipython3",
   "version": "3.8.5"
  }
 },
 "nbformat": 4,
 "nbformat_minor": 5
}
