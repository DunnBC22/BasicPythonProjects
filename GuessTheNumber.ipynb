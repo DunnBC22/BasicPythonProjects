{
 "cells": [
  {
   "cell_type": "code",
   "execution_count": 4,
   "id": "rotary-magnitude",
   "metadata": {},
   "outputs": [],
   "source": [
    "'''\n",
    "Ask the user for the lower and upper limit\n",
    "other features\n",
    "    a) Exit with the click of a button,\n",
    "    b) play again with same lower and upper limit\n",
    "    c) if the input value is out of bounds, assert an error\n",
    "    d) output the full results  \n",
    "'''"
   ]
  },
  {
   "cell_type": "code",
   "execution_count": 7,
   "id": "several-stream",
   "metadata": {},
   "outputs": [
    {
     "name": "stdin",
     "output_type": "stream",
     "text": [
      "What is the lower limit that you want to set: 1\n",
      "What is the upper limit that you want to set: 25\n",
      "Guess the value that is between 1 and 25: 13\n"
     ]
    },
    {
     "name": "stdout",
     "output_type": "stream",
     "text": [
      "Sorry, your guess of 13 does not match the randomly generated value of 9\n"
     ]
    },
    {
     "name": "stdin",
     "output_type": "stream",
     "text": [
      "Would you like to guess another randomly generated number? (Y/n) y\n",
      "What is the lower limit that you want to set: 25\n",
      "What is the upper limit that you want to set: 50\n",
      "Guess the value that is between 25 and 50: 38\n"
     ]
    },
    {
     "name": "stdout",
     "output_type": "stream",
     "text": [
      "Sorry, your guess of 38 does not match the randomly generated value of 37\n"
     ]
    },
    {
     "name": "stdin",
     "output_type": "stream",
     "text": [
      "Would you like to guess another randomly generated number? (Y/n) g\n"
     ]
    },
    {
     "name": "stdout",
     "output_type": "stream",
     "text": [
      "Please try again. The only accepted values are y and n \n",
      "\n"
     ]
    },
    {
     "name": "stdin",
     "output_type": "stream",
     "text": [
      "Would you like to guess another randomly generated number? (Y/n) n\n"
     ]
    }
   ],
   "source": [
    "import random\n",
    "\n",
    "def guess_the_number():\n",
    "    #Lower limit definition and validation\n",
    "    lower_limit = input(\"What is the lower limit that you want to set:\")\n",
    "\n",
    "    try:\n",
    "        isinstance(int(lower_limit), int)\n",
    "    except ValueError:\n",
    "        print('This is not a valid number. Please try again.')\n",
    "    else:\n",
    "        lower_limit = int(lower_limit) \n",
    "\n",
    "    #Upper limit definition and validation\n",
    "    upper_limit = input(\"What is the upper limit that you want to set:\")\n",
    "\n",
    "    try:\n",
    "        isinstance(int(upper_limit), int)\n",
    "    except:\n",
    "        print('This is not a valid number. Please try again.')\n",
    "    else:\n",
    "        upper_limit = int(upper_limit)     \n",
    "\n",
    "    #also check and make sure that the upper limit is larger than the lower limit\n",
    "    if (lower_limit > upper_limit):\n",
    "        print('The upper limit is lower than the lower limit. Please try again')\n",
    "        \n",
    "    #Generate the random value\n",
    "    random_value = random.randrange(lower_limit, upper_limit)\n",
    "    \n",
    "    #Ask user for their input value and validate it\n",
    "    user_input = input(\"Guess the value that is between \" + str(lower_limit) + \" and \" + str(upper_limit) + ':')\n",
    "    user_input = int(user_input)\n",
    "\n",
    "    if (not(lower_limit <= user_input <= upper_limit)):\n",
    "        print(\"Your guess is out of the range that was determined.\")\n",
    "\n",
    "    if (user_input==random_value):\n",
    "        print(\"Congrats! You have successfully guessed the value!\")\n",
    "    else:\n",
    "        print(f\"Sorry, your guess of %i does not match the randomly generated value of %i\" % (user_input, random_value))\n",
    "    \n",
    "    try_again()\n",
    "    return\n",
    "\n",
    "\n",
    "def try_again():\n",
    "    another_attempt = input(\"Would you like to guess another randomly generated number? (Y/n)\")\n",
    "    if ((another_attempt.upper() == 'Y') or (another_attempt.upper() == 'N')):\n",
    "        #do two if statements for the y and the n\n",
    "        if (another_attempt.upper() == 'Y'):\n",
    "            guess_the_number()\n",
    "        elif (another_attempt.upper() == 'N'):\n",
    "            quit()\n",
    "    else:\n",
    "        print(\"Please try again. The only accepted values are y and n\",'\\n')\n",
    "        try_again()\n",
    "\n",
    "\n",
    "guess_the_number()"
   ]
  }
 ],
 "metadata": {
  "kernelspec": {
   "display_name": "Python 3",
   "language": "python",
   "name": "python3"
  },
  "language_info": {
   "codemirror_mode": {
    "name": "ipython",
    "version": 3
   },
   "file_extension": ".py",
   "mimetype": "text/x-python",
   "name": "python",
   "nbconvert_exporter": "python",
   "pygments_lexer": "ipython3",
   "version": "3.8.5"
  }
 },
 "nbformat": 4,
 "nbformat_minor": 5
}
